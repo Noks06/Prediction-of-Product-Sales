{
  "nbformat": 4,
  "nbformat_minor": 0,
  "metadata": {
    "colab": {
      "provenance": [],
      "authorship_tag": "ABX9TyN0OuvK40XHsEw/gvuBEbil",
      "include_colab_link": true
    },
    "kernelspec": {
      "name": "python3",
      "display_name": "Python 3"
    },
    "language_info": {
      "name": "python"
    }
  },
  "cells": [
    {
      "cell_type": "markdown",
      "metadata": {
        "id": "view-in-github",
        "colab_type": "text"
      },
      "source": [
        "<a href=\"https://colab.research.google.com/github/Noks06/Prediction-of-Product-Sales/blob/main/Central_Tendency_Functions_.ipynb\" target=\"_parent\"><img src=\"https://colab.research.google.com/assets/colab-badge.svg\" alt=\"Open In Colab\"/></a>"
      ]
    },
    {
      "cell_type": "code",
      "execution_count": 2,
      "metadata": {
        "id": "9DqGBZv5ZKnK"
      },
      "outputs": [],
      "source": [
        "#Lists of Fahrenheit temps\n",
        "week_1 = [45, 55, 49, 60, 52, 55, 58]\n",
        "week_2 = [51, 49, 62, 50, 53, 56, 59]\n",
        "week_3 = [60, 60, 61, 62, 57, 59, 58]\n",
        "week_4 = [59, 63, 62, 61, 65, 66, 62]\n",
        "\n"
      ]
    },
    {
      "cell_type": "code",
      "source": [
        "#importing numpy liberies\n",
        "import statistics as stat\n",
        "\n",
        "#find Mean, Medium and Mode for week_1\n",
        "\n",
        "week_1_mean = stat.mean(week_1)\n",
        "week_1_mode = stat.mode(week_1)\n",
        "week_1_meduim  = stat.median(week_1)\n",
        "\n"
      ],
      "metadata": {
        "id": "4_v5CkGDZqj7"
      },
      "execution_count": 8,
      "outputs": []
    },
    {
      "cell_type": "code",
      "source": [
        "# writting and updating the function\n",
        "def central_tendency(tempratues,  verbose = True):\n",
        "  mean_temp = stat.mean(tempratues)\n",
        "  median_temp  = stat.median(tempratues)\n",
        "  mode_temp = stat.mode(tempratues)\n",
        "  if(verbose == True):\n",
        "    print(f\"The mean is {mean_temp}\")\n",
        "    print(f\"The mode is {mode_temp}\")\n",
        "    print(f\"The median is {median_temp}\")\n",
        "  else:\n",
        "    return mean_temp,median_temp,mode_temp\n"
      ],
      "metadata": {
        "id": "hsBC1bDSdmji"
      },
      "execution_count": 14,
      "outputs": []
    },
    {
      "cell_type": "code",
      "source": [
        "central_tendency(week_1, False)"
      ],
      "metadata": {
        "colab": {
          "base_uri": "https://localhost:8080/"
        },
        "id": "eZbB_7ZcghD8",
        "outputId": "9949e089-a1ab-4f62-ada6-ca8646b70c30"
      },
      "execution_count": 16,
      "outputs": [
        {
          "output_type": "execute_result",
          "data": {
            "text/plain": [
              "(53.42857142857143, 55, 55)"
            ]
          },
          "metadata": {},
          "execution_count": 16
        }
      ]
    }
  ]
}